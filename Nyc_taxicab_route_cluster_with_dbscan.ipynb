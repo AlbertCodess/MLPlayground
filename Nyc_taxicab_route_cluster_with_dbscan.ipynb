{
 "cells": [
  {
   "cell_type": "code",
   "execution_count": 1,
   "id": "ee84ce59",
   "metadata": {},
   "outputs": [],
   "source": [
    "from mpl_toolkits.basemap import Basemap\n",
    "\n",
    "import pandas as pd\n",
    "import numpy as np\n",
    "from sklearn.cluster import KMeans\n",
    "from sklearn.cluster import DBSCAN\n",
    "import hdbscan\n",
    "import time\n",
    "\n",
    "from matplotlib import pyplot as plt\n",
    "%matplotlib inline\n",
    "\n",
    "import random"
   ]
  },
  {
   "cell_type": "code",
   "execution_count": 2,
   "id": "af37c0c9",
   "metadata": {},
   "outputs": [],
   "source": [
    "# Set the sample fraction\n",
    "sample_frac = 0.001  # 0.1% of the data\n",
    "\n",
    "# Define the skip_rows function\n",
    "def skip_rows(index):\n",
    "    return index > 0 and random.random() > sample_frac\n",
    "\n",
    "# Use the skip_rows function with skiprows parameter\n",
    "df = pd.read_csv('data/nyc_taxi_data_2014.csv', skiprows=skip_rows)"
   ]
  },
  {
   "cell_type": "code",
   "execution_count": 3,
   "id": "74ed1fd2",
   "metadata": {},
   "outputs": [
    {
     "data": {
      "text/plain": [
       "15007"
      ]
     },
     "execution_count": 3,
     "metadata": {},
     "output_type": "execute_result"
    }
   ],
   "source": [
    "len(df)"
   ]
  },
  {
   "cell_type": "code",
   "execution_count": 4,
   "id": "041b8135",
   "metadata": {},
   "outputs": [
    {
     "data": {
      "text/plain": [
       "Index(['vendor_id', 'pickup_datetime', 'dropoff_datetime', 'passenger_count',\n",
       "       'trip_distance', 'pickup_longitude', 'pickup_latitude', 'rate_code',\n",
       "       'store_and_fwd_flag', 'dropoff_longitude', 'dropoff_latitude',\n",
       "       'payment_type', 'fare_amount', 'surcharge', 'mta_tax', 'tip_amount',\n",
       "       'tolls_amount', 'total_amount'],\n",
       "      dtype='object')"
      ]
     },
     "execution_count": 4,
     "metadata": {},
     "output_type": "execute_result"
    }
   ],
   "source": [
    "df.columns"
   ]
  },
  {
   "cell_type": "code",
   "execution_count": 5,
   "id": "57d6e2f6",
   "metadata": {},
   "outputs": [],
   "source": [
    "# Drop NaN values\n",
    "o_lng = df[['pickup_longitude']].rename(columns={\"pickup_longitude\": \"lng\"}).dropna()\n",
    "o_lat = df[['pickup_latitude']].rename(columns={\"pickup_latitude\": \"lat\"}).dropna()\n",
    "d_lng = df[['dropoff_longitude']].rename(columns={\"dropoff_longitude\": \"lng\"}).dropna()\n",
    "d_lat = df[['dropoff_latitude']].rename(columns={\"dropoff_latitude\": \"lat\"}).dropna()\n",
    "lng = pd.concat([o_lng, d_lng], axis=0)\n",
    "lat = pd.concat([o_lat, d_lat], axis=0)"
   ]
  },
  {
   "cell_type": "code",
   "execution_count": 6,
   "id": "a06d664e",
   "metadata": {},
   "outputs": [
    {
     "data": {
      "text/html": [
       "<div>\n",
       "<style scoped>\n",
       "    .dataframe tbody tr th:only-of-type {\n",
       "        vertical-align: middle;\n",
       "    }\n",
       "\n",
       "    .dataframe tbody tr th {\n",
       "        vertical-align: top;\n",
       "    }\n",
       "\n",
       "    .dataframe thead th {\n",
       "        text-align: right;\n",
       "    }\n",
       "</style>\n",
       "<table border=\"1\" class=\"dataframe\">\n",
       "  <thead>\n",
       "    <tr style=\"text-align: right;\">\n",
       "      <th></th>\n",
       "      <th>lng</th>\n",
       "      <th>lat</th>\n",
       "    </tr>\n",
       "  </thead>\n",
       "  <tbody>\n",
       "    <tr>\n",
       "      <th>30009</th>\n",
       "      <td>-73.982427</td>\n",
       "      <td>40.722432</td>\n",
       "    </tr>\n",
       "    <tr>\n",
       "      <th>30010</th>\n",
       "      <td>-73.971565</td>\n",
       "      <td>40.686415</td>\n",
       "    </tr>\n",
       "    <tr>\n",
       "      <th>30011</th>\n",
       "      <td>-73.971752</td>\n",
       "      <td>40.762462</td>\n",
       "    </tr>\n",
       "    <tr>\n",
       "      <th>30012</th>\n",
       "      <td>-74.008718</td>\n",
       "      <td>40.732675</td>\n",
       "    </tr>\n",
       "    <tr>\n",
       "      <th>30013</th>\n",
       "      <td>-73.977755</td>\n",
       "      <td>40.766470</td>\n",
       "    </tr>\n",
       "  </tbody>\n",
       "</table>\n",
       "</div>"
      ],
      "text/plain": [
       "             lng        lat\n",
       "30009 -73.982427  40.722432\n",
       "30010 -73.971565  40.686415\n",
       "30011 -73.971752  40.762462\n",
       "30012 -74.008718  40.732675\n",
       "30013 -73.977755  40.766470"
      ]
     },
     "execution_count": 6,
     "metadata": {},
     "output_type": "execute_result"
    }
   ],
   "source": [
    "lng_lat = pd.concat([lng, lat], axis=1).reset_index(drop=True)\n",
    "lng_lat.tail()"
   ]
  },
  {
   "cell_type": "code",
   "execution_count": 7,
   "id": "102d2dd4",
   "metadata": {},
   "outputs": [],
   "source": [
    "points = lng_lat.values"
   ]
  },
  {
   "cell_type": "code",
   "execution_count": 8,
   "id": "6f2d4cc2",
   "metadata": {},
   "outputs": [
    {
     "data": {
      "text/plain": [
       "(30014, 2)"
      ]
     },
     "execution_count": 8,
     "metadata": {},
     "output_type": "execute_result"
    }
   ],
   "source": [
    "points.shape"
   ]
  },
  {
   "cell_type": "code",
   "execution_count": 9,
   "id": "840d07cf",
   "metadata": {},
   "outputs": [],
   "source": [
    "coords = np.radians(points)"
   ]
  },
  {
   "cell_type": "code",
   "execution_count": 10,
   "id": "d70aa501",
   "metadata": {},
   "outputs": [
    {
     "data": {
      "text/plain": [
       "30014"
      ]
     },
     "execution_count": 10,
     "metadata": {},
     "output_type": "execute_result"
    }
   ],
   "source": [
    "len(coords)"
   ]
  },
  {
   "cell_type": "code",
   "execution_count": 11,
   "id": "f53cbc7a",
   "metadata": {},
   "outputs": [],
   "source": [
    "min_samples=5 # minimum number of samples needed to form a neighbourhood\n",
    "eps=1.0 # neighbourhood search radius\n",
    "metric='haversine' # distance measure \n",
    "\n",
    "dbscan = DBSCAN(eps=eps, min_samples=min_samples, metric=metric).fit(coords)"
   ]
  },
  {
   "cell_type": "code",
   "execution_count": 12,
   "id": "21d24919",
   "metadata": {},
   "outputs": [
    {
     "data": {
      "text/html": [
       "<div>\n",
       "<style scoped>\n",
       "    .dataframe tbody tr th:only-of-type {\n",
       "        vertical-align: middle;\n",
       "    }\n",
       "\n",
       "    .dataframe tbody tr th {\n",
       "        vertical-align: top;\n",
       "    }\n",
       "\n",
       "    .dataframe thead th {\n",
       "        text-align: right;\n",
       "    }\n",
       "</style>\n",
       "<table border=\"1\" class=\"dataframe\">\n",
       "  <thead>\n",
       "    <tr style=\"text-align: right;\">\n",
       "      <th></th>\n",
       "      <th>lng</th>\n",
       "      <th>lat</th>\n",
       "    </tr>\n",
       "  </thead>\n",
       "  <tbody>\n",
       "    <tr>\n",
       "      <th>0</th>\n",
       "      <td>-73.966515</td>\n",
       "      <td>40.760742</td>\n",
       "    </tr>\n",
       "    <tr>\n",
       "      <th>1</th>\n",
       "      <td>-73.985742</td>\n",
       "      <td>40.752582</td>\n",
       "    </tr>\n",
       "    <tr>\n",
       "      <th>2</th>\n",
       "      <td>-74.002211</td>\n",
       "      <td>40.726504</td>\n",
       "    </tr>\n",
       "    <tr>\n",
       "      <th>3</th>\n",
       "      <td>-73.980141</td>\n",
       "      <td>40.780450</td>\n",
       "    </tr>\n",
       "    <tr>\n",
       "      <th>4</th>\n",
       "      <td>-73.975904</td>\n",
       "      <td>40.755294</td>\n",
       "    </tr>\n",
       "    <tr>\n",
       "      <th>...</th>\n",
       "      <td>...</td>\n",
       "      <td>...</td>\n",
       "    </tr>\n",
       "    <tr>\n",
       "      <th>30009</th>\n",
       "      <td>-73.982427</td>\n",
       "      <td>40.722432</td>\n",
       "    </tr>\n",
       "    <tr>\n",
       "      <th>30010</th>\n",
       "      <td>-73.971565</td>\n",
       "      <td>40.686415</td>\n",
       "    </tr>\n",
       "    <tr>\n",
       "      <th>30011</th>\n",
       "      <td>-73.971752</td>\n",
       "      <td>40.762462</td>\n",
       "    </tr>\n",
       "    <tr>\n",
       "      <th>30012</th>\n",
       "      <td>-74.008718</td>\n",
       "      <td>40.732675</td>\n",
       "    </tr>\n",
       "    <tr>\n",
       "      <th>30013</th>\n",
       "      <td>-73.977755</td>\n",
       "      <td>40.766470</td>\n",
       "    </tr>\n",
       "  </tbody>\n",
       "</table>\n",
       "<p>30014 rows × 2 columns</p>\n",
       "</div>"
      ],
      "text/plain": [
       "             lng        lat\n",
       "0     -73.966515  40.760742\n",
       "1     -73.985742  40.752582\n",
       "2     -74.002211  40.726504\n",
       "3     -73.980141  40.780450\n",
       "4     -73.975904  40.755294\n",
       "...          ...        ...\n",
       "30009 -73.982427  40.722432\n",
       "30010 -73.971565  40.686415\n",
       "30011 -73.971752  40.762462\n",
       "30012 -74.008718  40.732675\n",
       "30013 -73.977755  40.766470\n",
       "\n",
       "[30014 rows x 2 columns]"
      ]
     },
     "execution_count": 12,
     "metadata": {},
     "output_type": "execute_result"
    }
   ],
   "source": [
    "lng_lat"
   ]
  },
  {
   "cell_type": "code",
   "execution_count": 13,
   "id": "d7d84168",
   "metadata": {},
   "outputs": [
    {
     "data": {
      "text/plain": [
       "Cluster\n",
       "0    29579\n",
       "1      435\n",
       "Name: count, dtype: int64"
      ]
     },
     "execution_count": 13,
     "metadata": {},
     "output_type": "execute_result"
    }
   ],
   "source": [
    "lng_lat['Cluster'] = dbscan.fit_predict(coords)  # Assign the cluster labels\n",
    "\n",
    "# Display the size of each cluster\n",
    "lng_lat['Cluster'].value_counts()"
   ]
  },
  {
   "cell_type": "code",
   "execution_count": 14,
   "id": "8371ca7e",
   "metadata": {},
   "outputs": [
    {
     "data": {
      "text/plain": [
       "30014"
      ]
     },
     "execution_count": 14,
     "metadata": {},
     "output_type": "execute_result"
    }
   ],
   "source": [
    "len(points)"
   ]
  },
  {
   "cell_type": "code",
   "execution_count": 15,
   "id": "87be6b1e",
   "metadata": {},
   "outputs": [
    {
     "data": {
      "text/plain": [
       "array([0, 1], dtype=int64)"
      ]
     },
     "execution_count": 15,
     "metadata": {},
     "output_type": "execute_result"
    }
   ],
   "source": [
    "# points = df[['lng', 'lat']].to_numpy()\n",
    "cluster_labels = lng_lat['Cluster'].to_numpy()\n",
    "# cluster_labels\n",
    "np.unique(cluster_labels)"
   ]
  },
  {
   "cell_type": "code",
   "execution_count": 42,
   "id": "84f04452",
   "metadata": {},
   "outputs": [
    {
     "data": {
      "text/plain": [
       "array([0, 0, 0, ..., 0, 0, 0], dtype=int64)"
      ]
     },
     "execution_count": 42,
     "metadata": {},
     "output_type": "execute_result"
    }
   ],
   "source": [
    "cluster_labels"
   ]
  },
  {
   "cell_type": "code",
   "execution_count": 16,
   "id": "907d36ad",
   "metadata": {},
   "outputs": [
    {
     "data": {
      "text/html": [
       "<div>\n",
       "<style scoped>\n",
       "    .dataframe tbody tr th:only-of-type {\n",
       "        vertical-align: middle;\n",
       "    }\n",
       "\n",
       "    .dataframe tbody tr th {\n",
       "        vertical-align: top;\n",
       "    }\n",
       "\n",
       "    .dataframe thead th {\n",
       "        text-align: right;\n",
       "    }\n",
       "</style>\n",
       "<table border=\"1\" class=\"dataframe\">\n",
       "  <thead>\n",
       "    <tr style=\"text-align: right;\">\n",
       "      <th></th>\n",
       "      <th>lng</th>\n",
       "      <th>lat</th>\n",
       "      <th>Cluster</th>\n",
       "    </tr>\n",
       "  </thead>\n",
       "  <tbody>\n",
       "    <tr>\n",
       "      <th>0</th>\n",
       "      <td>-73.966515</td>\n",
       "      <td>40.760742</td>\n",
       "      <td>0</td>\n",
       "    </tr>\n",
       "    <tr>\n",
       "      <th>1</th>\n",
       "      <td>-73.985742</td>\n",
       "      <td>40.752582</td>\n",
       "      <td>0</td>\n",
       "    </tr>\n",
       "    <tr>\n",
       "      <th>2</th>\n",
       "      <td>-74.002211</td>\n",
       "      <td>40.726504</td>\n",
       "      <td>0</td>\n",
       "    </tr>\n",
       "    <tr>\n",
       "      <th>3</th>\n",
       "      <td>-73.980141</td>\n",
       "      <td>40.780450</td>\n",
       "      <td>0</td>\n",
       "    </tr>\n",
       "    <tr>\n",
       "      <th>4</th>\n",
       "      <td>-73.975904</td>\n",
       "      <td>40.755294</td>\n",
       "      <td>0</td>\n",
       "    </tr>\n",
       "    <tr>\n",
       "      <th>...</th>\n",
       "      <td>...</td>\n",
       "      <td>...</td>\n",
       "      <td>...</td>\n",
       "    </tr>\n",
       "    <tr>\n",
       "      <th>30009</th>\n",
       "      <td>-73.982427</td>\n",
       "      <td>40.722432</td>\n",
       "      <td>0</td>\n",
       "    </tr>\n",
       "    <tr>\n",
       "      <th>30010</th>\n",
       "      <td>-73.971565</td>\n",
       "      <td>40.686415</td>\n",
       "      <td>0</td>\n",
       "    </tr>\n",
       "    <tr>\n",
       "      <th>30011</th>\n",
       "      <td>-73.971752</td>\n",
       "      <td>40.762462</td>\n",
       "      <td>0</td>\n",
       "    </tr>\n",
       "    <tr>\n",
       "      <th>30012</th>\n",
       "      <td>-74.008718</td>\n",
       "      <td>40.732675</td>\n",
       "      <td>0</td>\n",
       "    </tr>\n",
       "    <tr>\n",
       "      <th>30013</th>\n",
       "      <td>-73.977755</td>\n",
       "      <td>40.766470</td>\n",
       "      <td>0</td>\n",
       "    </tr>\n",
       "  </tbody>\n",
       "</table>\n",
       "<p>30014 rows × 3 columns</p>\n",
       "</div>"
      ],
      "text/plain": [
       "             lng        lat  Cluster\n",
       "0     -73.966515  40.760742        0\n",
       "1     -73.985742  40.752582        0\n",
       "2     -74.002211  40.726504        0\n",
       "3     -73.980141  40.780450        0\n",
       "4     -73.975904  40.755294        0\n",
       "...          ...        ...      ...\n",
       "30009 -73.982427  40.722432        0\n",
       "30010 -73.971565  40.686415        0\n",
       "30011 -73.971752  40.762462        0\n",
       "30012 -74.008718  40.732675        0\n",
       "30013 -73.977755  40.766470        0\n",
       "\n",
       "[30014 rows x 3 columns]"
      ]
     },
     "execution_count": 16,
     "metadata": {},
     "output_type": "execute_result"
    }
   ],
   "source": [
    "lng_lat"
   ]
  },
  {
   "cell_type": "code",
   "execution_count": 17,
   "id": "4e19d47c",
   "metadata": {},
   "outputs": [],
   "source": [
    "min_samples=None\n",
    "min_cluster_size=3\n",
    "hdb = hdbscan.HDBSCAN(min_samples=min_samples, min_cluster_size=min_cluster_size, metric='haversine')  "
   ]
  },
  {
   "cell_type": "code",
   "execution_count": 18,
   "id": "2cb803e3",
   "metadata": {
    "scrolled": true
   },
   "outputs": [
    {
     "name": "stderr",
     "output_type": "stream",
     "text": [
      "C:\\Users\\alber\\anaconda3\\Lib\\site-packages\\sklearn\\utils\\deprecation.py:151: FutureWarning: 'force_all_finite' was renamed to 'ensure_all_finite' in 1.6 and will be removed in 1.8.\n",
      "  warnings.warn(\n",
      "C:\\Users\\alber\\anaconda3\\Lib\\site-packages\\sklearn\\utils\\deprecation.py:151: FutureWarning: 'force_all_finite' was renamed to 'ensure_all_finite' in 1.6 and will be removed in 1.8.\n",
      "  warnings.warn(\n"
     ]
    },
    {
     "data": {
      "text/plain": [
       "Cluster_hdb\n",
       "-1       8592\n",
       " 0        435\n",
       " 1433     120\n",
       " 1815      84\n",
       " 59        81\n",
       "         ... \n",
       " 1858       3\n",
       " 93         3\n",
       " 890        3\n",
       " 410        3\n",
       " 2217       3\n",
       "Name: count, Length: 2358, dtype: int64"
      ]
     },
     "execution_count": 18,
     "metadata": {},
     "output_type": "execute_result"
    }
   ],
   "source": [
    "lng_lat['Cluster_hdb'] = hdb.fit_predict(coords)  # Assign the cluster labels\n",
    "\n",
    "# Display the size of each cluster\n",
    "lng_lat['Cluster_hdb'].value_counts()"
   ]
  },
  {
   "cell_type": "code",
   "execution_count": 20,
   "id": "b1c175af",
   "metadata": {},
   "outputs": [
    {
     "data": {
      "text/plain": [
       "array([1730, 1874,  913, ..., 2175,   -1, 1107], dtype=int64)"
      ]
     },
     "execution_count": 20,
     "metadata": {},
     "output_type": "execute_result"
    }
   ],
   "source": [
    "cluster_labels2 = lng_lat['Cluster_hdb'].to_numpy()\n",
    "cluster_labels2"
   ]
  },
  {
   "cell_type": "code",
   "execution_count": null,
   "id": "452d7c57",
   "metadata": {},
   "outputs": [],
   "source": [
    "# TODO use pyclustering to show each cluster on its own map of nyc"
   ]
  },
  {
   "cell_type": "code",
   "execution_count": null,
   "id": "02e6d3d7",
   "metadata": {},
   "outputs": [],
   "source": [
    "# NYC taxi route data not meant to be clustered the points are too close in proximity"
   ]
  }
 ],
 "metadata": {
  "kernelspec": {
   "display_name": "Python 3 (ipykernel)",
   "language": "python",
   "name": "python3"
  },
  "language_info": {
   "codemirror_mode": {
    "name": "ipython",
    "version": 3
   },
   "file_extension": ".py",
   "mimetype": "text/x-python",
   "name": "python",
   "nbconvert_exporter": "python",
   "pygments_lexer": "ipython3",
   "version": "3.11.5"
  }
 },
 "nbformat": 4,
 "nbformat_minor": 5
}
